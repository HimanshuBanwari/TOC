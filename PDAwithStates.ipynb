{
 "cells": [
  {
   "cell_type": "markdown",
   "metadata": {},
   "source": [
    "PDA "
   ]
  },
  {
   "cell_type": "markdown",
   "metadata": {},
   "source": [
    "PDA that accepts string a^nb^n with state changes."
   ]
  },
  {
   "cell_type": "code",
   "execution_count": 1,
   "metadata": {},
   "outputs": [
    {
     "name": "stdin",
     "output_type": "stream",
     "text": [
      "Please enter the expression:  aabb\n"
     ]
    },
    {
     "name": "stdout",
     "output_type": "stream",
     "text": [
      "q1\n",
      "[('q1', 'a')]\n",
      "q1\n",
      "[('q1', 'a')]\n",
      "q2\n",
      "[('q2', 'b')]\n",
      "q2\n",
      "[('q2', 'b')]\n",
      "accepted string\n"
     ]
    }
   ],
   "source": [
    "#testcase-1\n",
    "class Stack:\n",
    "    def __init__(self):\n",
    "        self.l = []\n",
    " \n",
    "    def is_empty(self):\n",
    "        return self.l == []\n",
    " \n",
    "    def push(self, data):\n",
    "        self.l.append(data)\n",
    " \n",
    "    def pop(self):\n",
    "        return self.l.pop()\n",
    " \n",
    "pda={}\n",
    "pda[('q0','a')]='q1'\n",
    "pda[('q1','a')]='q1'\n",
    "pda[('q1','b')]='q2'\n",
    "pda[('q2','b')]='q2'\n",
    "pda[('q2',' ')]='qf'\n",
    "class Eab:\n",
    "    def __init__(self,dfa1):\n",
    "        self.ins='q0'\n",
    "        self.CS='q0'\n",
    "        self.fs={'qf'}\n",
    "       \n",
    "    def moves(self,string):\n",
    "        for i in string:\n",
    "            self.CS=pda[(self.CS,i)]\n",
    "            print(self.CS)\n",
    "            print ([(self.CS,i)])\n",
    "s = Stack()\n",
    "exp = input('Please enter the expression: ')\n",
    "ob1=Eab(pda)\n",
    "ob1.moves(exp)\n",
    "for e in exp:\n",
    "    if e == 'a':\n",
    "        s.push(1)\n",
    "    elif e == 'b':\n",
    "        if s.is_empty():\n",
    "            balanced = False\n",
    "            break\n",
    "        s.pop()\n",
    "else:\n",
    "    if s.is_empty():\n",
    "        balanced = True\n",
    "    else:\n",
    "        balanced = False\n",
    " \n",
    "if balanced:\n",
    "    print('accepted string')\n",
    "else:\n",
    "    print('not accepted string')\n"
   ]
  },
  {
   "cell_type": "code",
   "execution_count": 2,
   "metadata": {},
   "outputs": [
    {
     "name": "stdin",
     "output_type": "stream",
     "text": [
      "Please enter the expression:  aabbb\n"
     ]
    },
    {
     "name": "stdout",
     "output_type": "stream",
     "text": [
      "q1\n",
      "[('q1', 'a')]\n",
      "q1\n",
      "[('q1', 'a')]\n",
      "q2\n",
      "[('q2', 'b')]\n",
      "q2\n",
      "[('q2', 'b')]\n",
      "q2\n",
      "[('q2', 'b')]\n",
      "not accepted string\n"
     ]
    }
   ],
   "source": [
    "#testcase-2\n",
    "class Stack:\n",
    "    def __init__(self):\n",
    "        self.l = []\n",
    " \n",
    "    def is_empty(self):\n",
    "        return self.l == []\n",
    " \n",
    "    def push(self, data):\n",
    "        self.l.append(data)\n",
    " \n",
    "    def pop(self):\n",
    "        return self.l.pop()\n",
    " \n",
    "pda={}\n",
    "pda[('q0','a')]='q1'\n",
    "pda[('q1','a')]='q1'\n",
    "pda[('q1','b')]='q2'\n",
    "pda[('q2','b')]='q2'\n",
    "pda[('q2',' ')]='qf'\n",
    "class Eab:\n",
    "    def __init__(self,dfa1):\n",
    "        self.ins='q0'\n",
    "        self.CS='q0'\n",
    "        self.fs={'qf'}\n",
    "       \n",
    "    def moves(self,string):\n",
    "        for i in string:\n",
    "            self.CS=pda[(self.CS,i)]\n",
    "            print(self.CS)\n",
    "            print ([(self.CS,i)])\n",
    "s = Stack()\n",
    "exp = input('Please enter the expression: ')\n",
    "ob1=Eab(pda)\n",
    "ob1.moves(exp)\n",
    "for e in exp:\n",
    "    if e == 'a':\n",
    "        s.push(1)\n",
    "    elif e == 'b':\n",
    "        if s.is_empty():\n",
    "            balanced = False\n",
    "            break\n",
    "        s.pop()\n",
    "else:\n",
    "    if s.is_empty():\n",
    "        balanced = True\n",
    "    else:\n",
    "        balanced = False\n",
    " \n",
    "if balanced:\n",
    "    print('accepted string')\n",
    "else:\n",
    "    print('not accepted string')\n"
   ]
  }
 ],
 "metadata": {
  "kernelspec": {
   "display_name": "Python 3",
   "language": "python",
   "name": "python3"
  },
  "language_info": {
   "codemirror_mode": {
    "name": "ipython",
    "version": 3
   },
   "file_extension": ".py",
   "mimetype": "text/x-python",
   "name": "python",
   "nbconvert_exporter": "python",
   "pygments_lexer": "ipython3",
   "version": "3.7.3"
  }
 },
 "nbformat": 4,
 "nbformat_minor": 4
}
