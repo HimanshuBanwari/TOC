{
 "cells": [
  {
   "cell_type": "markdown",
   "metadata": {},
   "source": [
    "ENQUEUE"
   ]
  },
  {
   "cell_type": "code",
   "execution_count": 1,
   "metadata": {
    "collapsed": true,
    "jupyter": {
     "outputs_hidden": true,
     "source_hidden": true
    }
   },
   "outputs": [
    {
     "name": "stdin",
     "output_type": "stream",
     "text": [
      "enter choice : 0 for exit 1 for push and 2 for pop: 1\n"
     ]
    },
    {
     "name": "stdout",
     "output_type": "stream",
     "text": [
      "enter the element\n"
     ]
    },
    {
     "name": "stdin",
     "output_type": "stream",
     "text": [
      " 1\n"
     ]
    },
    {
     "name": "stdout",
     "output_type": "stream",
     "text": [
      "['1']\n"
     ]
    },
    {
     "name": "stdin",
     "output_type": "stream",
     "text": [
      "enter choice : 0 for exit 1 for push and 2 for pop: 1\n"
     ]
    },
    {
     "name": "stdout",
     "output_type": "stream",
     "text": [
      "enter the element\n"
     ]
    },
    {
     "name": "stdin",
     "output_type": "stream",
     "text": [
      " 2\n"
     ]
    },
    {
     "name": "stdout",
     "output_type": "stream",
     "text": [
      "['1', '2']\n"
     ]
    },
    {
     "name": "stdin",
     "output_type": "stream",
     "text": [
      "enter choice : 0 for exit 1 for push and 2 for pop: 2\n"
     ]
    },
    {
     "name": "stdout",
     "output_type": "stream",
     "text": [
      "['2', '1']\n",
      "1\n",
      "['2']\n"
     ]
    },
    {
     "name": "stdin",
     "output_type": "stream",
     "text": [
      "enter choice : 0 for exit 1 for push and 2 for pop: 0\n"
     ]
    }
   ],
   "source": [
    "class Queue:\n",
    "    def __init__(self):\n",
    "        self.list=[]\n",
    "    \n",
    "    def push(self):\n",
    "        if len(self.list)>4:\n",
    "            print(\"queue is full\") \n",
    "        else:    \n",
    "            print(\"enter the element\")\n",
    "            x=input()   \n",
    "            self.list.append(x)\n",
    "            print(self.list)\n",
    "    def pop(self):\n",
    "        if len(self.list)==0:\n",
    "            print(\"queue is empty\")\n",
    "        else:\n",
    "            self.list.reverse()\n",
    "            print (self.list)\n",
    "            print(self.list.pop())\n",
    "            self.list.reverse()\n",
    "            print(self.list)\n",
    "\n",
    "choice=int(input(\"enter choice : 0 for exit 1 for push and 2 for pop:\"))\n",
    "q= Queue()\n",
    "\n",
    "while choice!=0:\n",
    "    \n",
    "    if choice==1:\n",
    "        q.push()\n",
    "    else:\n",
    "        q.pop()\n",
    "    choice=int(input(\"enter choice : 0 for exit 1 for push and 2 for pop:\"))\n",
    "\n",
    "\n"
   ]
  },
  {
   "cell_type": "markdown",
   "metadata": {},
   "source": [
    "DEQUEUE"
   ]
  },
  {
   "cell_type": "code",
   "execution_count": 2,
   "metadata": {
    "collapsed": true,
    "jupyter": {
     "outputs_hidden": true,
     "source_hidden": true
    }
   },
   "outputs": [
    {
     "name": "stdin",
     "output_type": "stream",
     "text": [
      "enter choice : 0 for exit 1 for push and 2 for pop: 1\n",
      "enter choice for entry of queue 1.front 2.rear 1\n"
     ]
    },
    {
     "name": "stdout",
     "output_type": "stream",
     "text": [
      "enter the element\n"
     ]
    },
    {
     "name": "stdin",
     "output_type": "stream",
     "text": [
      " 1\n"
     ]
    },
    {
     "name": "stdout",
     "output_type": "stream",
     "text": [
      "['1']\n"
     ]
    },
    {
     "name": "stdin",
     "output_type": "stream",
     "text": [
      "enter choice : 0 for exit 1 for push and 2 for pop: 1\n",
      "enter choice for entry of queue 1.front 2.rear 2\n"
     ]
    },
    {
     "name": "stdout",
     "output_type": "stream",
     "text": [
      "enter the element\n"
     ]
    },
    {
     "name": "stdin",
     "output_type": "stream",
     "text": [
      " 2\n"
     ]
    },
    {
     "name": "stdout",
     "output_type": "stream",
     "text": [
      "['2', '1']\n"
     ]
    },
    {
     "name": "stdin",
     "output_type": "stream",
     "text": [
      "enter choice : 0 for exit 1 for push and 2 for pop: 2\n",
      "enter choice for entry of queue 1.front 2.rear 1\n"
     ]
    },
    {
     "name": "stdout",
     "output_type": "stream",
     "text": [
      "['2', '1']\n",
      "1\n",
      "['2']\n"
     ]
    },
    {
     "name": "stdin",
     "output_type": "stream",
     "text": [
      "enter choice : 0 for exit 1 for push and 2 for pop: 2\n",
      "enter choice for entry of queue 1.front 2.rear 2\n"
     ]
    },
    {
     "name": "stdout",
     "output_type": "stream",
     "text": [
      "['2']\n",
      "2\n",
      "[]\n"
     ]
    },
    {
     "name": "stdin",
     "output_type": "stream",
     "text": [
      "enter choice : 0 for exit 1 for push and 2 for pop: 0\n"
     ]
    }
   ],
   "source": [
    "class Queue:\n",
    "    def __init__(self):\n",
    "        self.list=[]\n",
    "    \n",
    "    def push(self):\n",
    "        if len(self.list)>4:\n",
    "            print(\"queue is full\") \n",
    "        else:    \n",
    "            print(\"enter the element\")\n",
    "            x=input()   \n",
    "            self.list.append(x)\n",
    "            print(self.list)\n",
    "    def pushrear(self):\n",
    "        if len(self.list)>4:\n",
    "            print(\"queue is full\") \n",
    "        else:    \n",
    "            print(\"enter the element\")\n",
    "            x=input()   \n",
    "            self.list.insert(0,x)\n",
    "            print(self.list)\n",
    "    def pop(self):\n",
    "        if len(self.list)==0:\n",
    "            print(\"queue is empty\")\n",
    "        else:\n",
    "            self.list.reverse()\n",
    "            print (self.list)\n",
    "            print(self.list.pop())\n",
    "            self.list.reverse()\n",
    "            print(self.list)\n",
    "    def popfront(self):\n",
    "        if len(self.list)==0:\n",
    "            print(\"queue is empty\")\n",
    "        else:\n",
    "            print (self.list)\n",
    "            print(self.list.pop())\n",
    "            print(self.list)\n",
    "\n",
    "choice=int(input(\"enter choice : 0 for exit 1 for push and 2 for pop:\"))\n",
    "q= Queue()\n",
    "\n",
    "while choice!=0:\n",
    "    \n",
    "    if choice==1:\n",
    "        choice2=int(input(\"enter choice for entry of queue 1.front 2.rear\"))\n",
    "        if choice2==1:\n",
    "            q.push()\n",
    "        elif choice2==2:\n",
    "            q.pushrear()\n",
    "        else:\n",
    "            print(\"wrong choice\")\n",
    "    else:\n",
    "        choice3=int(input(\"enter choice for entry of queue 1.front 2.rear\"))\n",
    "        if choice3==1:\n",
    "            q.popfront()\n",
    "        elif choice3==2:\n",
    "            q.pop()\n",
    "        else:\n",
    "            print(\"wrong choice\")\n",
    "    choice=int(input(\"enter choice : 0 for exit 1 for push and 2 for pop:\"))"
   ]
  },
  {
   "cell_type": "markdown",
   "metadata": {},
   "source": [
    "STACK PARANTHESES"
   ]
  },
  {
   "cell_type": "code",
   "execution_count": 4,
   "metadata": {
    "collapsed": true,
    "jupyter": {
     "outputs_hidden": true,
     "source_hidden": true
    }
   },
   "outputs": [
    {
     "name": "stdin",
     "output_type": "stream",
     "text": [
      "Please enter the expression:  ((())\n"
     ]
    },
    {
     "name": "stdout",
     "output_type": "stream",
     "text": [
      "UNBALANCED\n"
     ]
    }
   ],
   "source": [
    "class Stack:\n",
    "    def __init__(self):\n",
    "        self.l = []\n",
    " \n",
    "    def is_empty(self):\n",
    "        return self.l == []\n",
    " \n",
    "    def push(self, data):\n",
    "        self.l.append(data)\n",
    " \n",
    "    def pop(self):\n",
    "        return self.l.pop()\n",
    " \n",
    " \n",
    "s = Stack()\n",
    "exp = input('Please enter the expression: ')\n",
    " \n",
    "for e in exp:\n",
    "    if e == '(':\n",
    "        s.push(1)\n",
    "    elif e == ')':\n",
    "        if s.is_empty():\n",
    "            balanced = False\n",
    "            break\n",
    "        s.pop()\n",
    "else:\n",
    "    if s.is_empty():\n",
    "        balanced = True\n",
    "    else:\n",
    "        balanced = False\n",
    " \n",
    "if balanced:\n",
    "    print('BALANCED')\n",
    "else:\n",
    "    print('UNBALANCED')"
   ]
  },
  {
   "cell_type": "code",
   "execution_count": 5,
   "metadata": {
    "collapsed": true,
    "jupyter": {
     "outputs_hidden": true,
     "source_hidden": true
    }
   },
   "outputs": [
    {
     "name": "stdin",
     "output_type": "stream",
     "text": [
      "Please enter the expression:  (())\n"
     ]
    },
    {
     "name": "stdout",
     "output_type": "stream",
     "text": [
      "BALANCED\n"
     ]
    }
   ],
   "source": [
    "class Stack:\n",
    "    def __init__(self):\n",
    "        self.l = []\n",
    " \n",
    "    def is_empty(self):\n",
    "        return self.l == []\n",
    " \n",
    "    def push(self, data):\n",
    "        self.l.append(data)\n",
    " \n",
    "    def pop(self):\n",
    "        return self.l.pop()\n",
    " \n",
    " \n",
    "s = Stack()\n",
    "exp = input('Please enter the expression: ')\n",
    " \n",
    "for e in exp:\n",
    "    if e == '(':\n",
    "        s.push(1)\n",
    "    elif e == ')':\n",
    "        if s.is_empty():\n",
    "            balanced = False\n",
    "            break\n",
    "        s.pop()\n",
    "else:\n",
    "    if s.is_empty():\n",
    "        balanced = True\n",
    "    else:\n",
    "        balanced = False\n",
    " \n",
    "if balanced:\n",
    "    print('BALANCED')\n",
    "else:\n",
    "    print('UNBALANCED')"
   ]
  },
  {
   "cell_type": "markdown",
   "metadata": {},
   "source": [
    "DIFFERENT PARANTHESES BALANCING"
   ]
  },
  {
   "cell_type": "code",
   "execution_count": null,
   "metadata": {},
   "outputs": [],
   "source": [
    "class Stack:\n",
    "    def __init__(self):\n",
    "        self.l1 = []\n",
    "        self.l2 = []\n",
    "        self.l3 = []\n",
    " \n",
    "    def is_empty(self):\n",
    "        return (self.l1 == [],self.l2==[],self.l3==[])\n",
    "        \n",
    " \n",
    "    def push(self, x):\n",
    "        self.l1.append(x)\n",
    "        self.l2.append(x)\n",
    "        self.l3.append(x)\n",
    " \n",
    "    def pop(self):\n",
    "        return (self.l1.pop(),self.l2.pop(),self.l3.pop())\n",
    " \n",
    " \n",
    "s = Stack()\n",
    "exp = input('enter the expression: ')\n",
    " \n",
    "for e in exp:\n",
    "    if e == '(':\n",
    "        s.push(11)\n",
    "    elif e == ')':\n",
    "        if s.is_empty():\n",
    "            balanced = False\n",
    "            break\n",
    "        s.pop(l1)\n",
    "    \n",
    "    elif e == '[':\n",
    "        s.push(l2)\n",
    "    elif e == ']':\n",
    "        if s.is_empty():\n",
    "            balanced = False\n",
    "            break\n",
    "        s.pop(l2)\n",
    "    \n",
    "    elif e == '(':\n",
    "        s.push(13)\n",
    "    elif e == ')':\n",
    "        if s.is_empty():\n",
    "            balanced = False\n",
    "            break\n",
    "        s.pop(l3)\n",
    "if s.is_empty():\n",
    "    balanced = True\n",
    "else:\n",
    "    balanced = False\n",
    " \n",
    "if balanced==True:\n",
    "    print('BALANCED')\n",
    "else:\n",
    "    print('UNBALANCED')\n"
   ]
  },
  {
   "cell_type": "markdown",
   "metadata": {},
   "source": [
    "STRING FUNCTIONS"
   ]
  },
  {
   "cell_type": "code",
   "execution_count": 17,
   "metadata": {
    "collapsed": true,
    "jupyter": {
     "outputs_hidden": true,
     "source_hidden": true
    }
   },
   "outputs": [
    {
     "name": "stdout",
     "output_type": "stream",
     "text": [
      "['1']\n",
      "['2']\n",
      "['2', '6']\n",
      "['1', '1']\n",
      "['1', '1', '1']\n",
      "adkmxASV11126\n"
     ]
    }
   ],
   "source": [
    "digitEvenList = []\n",
    "digitOddList = []\n",
    "capitalList = []\n",
    "smallList = []\n",
    "\n",
    "\n",
    "def convert(test):\n",
    "    for value in test:\n",
    "        if value.isdigit():\n",
    "            if int(value) % 2 == 0:\n",
    "                digitEvenList.append(value)\n",
    "                print(digitEvenList)\n",
    "            else:\n",
    "                digitOddList.append(value)\n",
    "                print(digitOddList)\n",
    "        elif value.isupper():\n",
    "            capitalList.append(value)\n",
    "        elif value.islower():\n",
    "            smallList.append(value)\n",
    "    digitEvenList.sort()\n",
    "    digitOddList.sort()\n",
    "    capitalList.sort()\n",
    "    smallList.sort()\n",
    "    return smallList + capitalList + digitOddList+ digitEvenList\n",
    "\n",
    "\n",
    "\n",
    "values = convert('kdxamAS12V611')\n",
    "\n",
    "print(''.join(values))"
   ]
  },
  {
   "cell_type": "markdown",
   "metadata": {},
   "source": [
    "DICTIONARY TYPE-1 "
   ]
  },
  {
   "cell_type": "code",
   "execution_count": 19,
   "metadata": {
    "collapsed": true,
    "jupyter": {
     "outputs_hidden": true,
     "source_hidden": true
    }
   },
   "outputs": [
    {
     "name": "stdout",
     "output_type": "stream",
     "text": [
      "DFA-1\n",
      "0\n",
      "1\n",
      "0\n",
      "1\n",
      "DFA-2\n",
      "a\n",
      "b\n",
      "a\n",
      "b\n"
     ]
    }
   ],
   "source": [
    "dfa={0:{'a':1,'b':1},1:{'a':0,'b':0}}\n",
    "print (\"DFA-1\")\n",
    "print (dfa[1]['a'])\n",
    "print (dfa[0]['a'])\n",
    "print (dfa[1]['b'])\n",
    "print (dfa[0]['b'])\n",
    "\n",
    "dfa2={'a':{0:'a',1:'b'},'b':{0:'a',1:'b'}}\n",
    "print (\"DFA-2\")\n",
    "print (dfa2['a'][0])\n",
    "print (dfa2['a'][1])\n",
    "print (dfa2['b'][0])\n",
    "print (dfa2['b'][1])\n",
    "\n"
   ]
  },
  {
   "cell_type": "markdown",
   "metadata": {},
   "source": [
    "DICTIONARY TYPE-2"
   ]
  },
  {
   "cell_type": "code",
   "execution_count": 20,
   "metadata": {
    "collapsed": true,
    "jupyter": {
     "outputs_hidden": true,
     "source_hidden": true
    }
   },
   "outputs": [
    {
     "name": "stdout",
     "output_type": "stream",
     "text": [
      "DFA-1\n",
      "0\n",
      "0\n",
      "1\n",
      "1\n",
      "DFA-2\n",
      "b\n",
      "b\n",
      "a\n",
      "a\n"
     ]
    }
   ],
   "source": [
    "dfa={}\n",
    "dfa[(0,'a')]=1\n",
    "dfa[(0,'b')]=1\n",
    "dfa[(1,'a')]=0\n",
    "dfa[(1,'b')]=0\n",
    "print(\"DFA-1\")\n",
    "print(dfa[(1,'a')])\n",
    "print(dfa[(1,'b')])\n",
    "print(dfa[(0,'a')])\n",
    "print(dfa[(0,'b')])\n",
    "\n",
    "dfa2={}\n",
    "dfa[('a',0)]='a'\n",
    "dfa[('b',0)]='a'\n",
    "dfa[('a',1)]='b'\n",
    "dfa[('b',1)]='b'\n",
    "print(\"DFA-2\")\n",
    "print(dfa[('a',1)])\n",
    "print(dfa[('b',1)])\n",
    "print(dfa[('a',0)])\n",
    "print(dfa[('b',0)])\n"
   ]
  }
 ],
 "metadata": {
  "kernelspec": {
   "display_name": "Python 3",
   "language": "python",
   "name": "python3"
  },
  "language_info": {
   "codemirror_mode": {
    "name": "ipython",
    "version": 3
   },
   "file_extension": ".py",
   "mimetype": "text/x-python",
   "name": "python",
   "nbconvert_exporter": "python",
   "pygments_lexer": "ipython3",
   "version": "3.7.3"
  }
 },
 "nbformat": 4,
 "nbformat_minor": 4
}
