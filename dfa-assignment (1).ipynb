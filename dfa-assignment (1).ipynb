{
 "cells": [
  {
   "cell_type": "markdown",
   "metadata": {},
   "source": [
    "DFA ASSIGNMENT"
   ]
  },
  {
   "cell_type": "markdown",
   "metadata": {},
   "source": [
    "1- DESIGN A PROGRAM FOR MACHINE THAT ACCEPTS 3 CONSECUTIVE 1'S"
   ]
  },
  {
   "cell_type": "code",
   "execution_count": 2,
   "metadata": {},
   "outputs": [
    {
     "name": "stdin",
     "output_type": "stream",
     "text": [
      "enter string 10111\n"
     ]
    },
    {
     "name": "stdout",
     "output_type": "stream",
     "text": [
      "b\n",
      "a\n",
      "b\n",
      "c\n",
      "d\n",
      "string has 3 consecutive 1's\n"
     ]
    }
   ],
   "source": [
    "dfa={}\n",
    "dfa[('a','0')]='a'\n",
    "dfa[('b','0')]='a'\n",
    "dfa[('c','0')]='a'\n",
    "dfa[('d','0')]='a'\n",
    "dfa[('a','1')]='b'\n",
    "dfa[('b','1')]='c'\n",
    "dfa[('c','1')]='d'\n",
    "dfa[('d','1')]='d'\n",
    "\n",
    "class Eab:\n",
    "    def __init__(self,dfa):\n",
    "        self.ins='a'\n",
    "        self.CS='a'\n",
    "        self.fs={'d'}\n",
    "        \n",
    "    def moves(self,string):\n",
    "        COUNT=0\n",
    "        for i in string:\n",
    "            self.CS=dfa[(self.CS,i)]\n",
    "            print(self.CS)\n",
    "            if self.CS in self.fs:\n",
    "                COUNT=COUNT+1\n",
    "        if COUNT!=0:\n",
    "            print(\"string has 3 consecutive 1's\")\n",
    "        else:\n",
    "            print(\"not has 3 consecutive 1's\")\n",
    "        \n",
    "\n",
    "str=input(\"enter string\")\n",
    "ob1=Eab(dfa)\n",
    "ob1.moves(str)"
   ]
  },
  {
   "cell_type": "code",
   "execution_count": 3,
   "metadata": {},
   "outputs": [
    {
     "name": "stdin",
     "output_type": "stream",
     "text": [
      "enter string 1101\n"
     ]
    },
    {
     "name": "stdout",
     "output_type": "stream",
     "text": [
      "b\n",
      "c\n",
      "a\n",
      "b\n",
      "not has 3 consecutive 1's\n"
     ]
    }
   ],
   "source": [
    "#TESTCASE2\n",
    "dfa={}\n",
    "dfa[('a','0')]='a'\n",
    "dfa[('b','0')]='a'\n",
    "dfa[('c','0')]='a'\n",
    "dfa[('d','0')]='a'\n",
    "dfa[('a','1')]='b'\n",
    "dfa[('b','1')]='c'\n",
    "dfa[('c','1')]='d'\n",
    "dfa[('d','1')]='d'\n",
    "\n",
    "class Eab:\n",
    "    def __init__(self,dfa):\n",
    "        self.ins='a'\n",
    "        self.CS='a'\n",
    "        self.fs={'d'}\n",
    "        \n",
    "    def moves(self,string):\n",
    "        COUNT=0\n",
    "        for i in string:\n",
    "            self.CS=dfa[(self.CS,i)]\n",
    "            print(self.CS)\n",
    "            if self.CS in self.fs:\n",
    "                COUNT=COUNT+1\n",
    "        if COUNT!=0:\n",
    "            print(\"string has 3 consecutive 1's\")\n",
    "        else:\n",
    "            print(\"not has 3 consecutive 1's\")\n",
    "        \n",
    "\n",
    "str=input(\"enter string\")\n",
    "ob1=Eab(dfa)\n",
    "ob1.moves(str)"
   ]
  },
  {
   "cell_type": "markdown",
   "metadata": {},
   "source": [
    "2- DESIGN A PROGRAM FOR MACHINE THAT ENDS WITH 101"
   ]
  },
  {
   "cell_type": "code",
   "execution_count": 5,
   "metadata": {},
   "outputs": [
    {
     "name": "stdin",
     "output_type": "stream",
     "text": [
      "enter string 1101\n"
     ]
    },
    {
     "name": "stdout",
     "output_type": "stream",
     "text": [
      "b\n",
      "b\n",
      "c\n",
      "d\n",
      "string end's with 101\n"
     ]
    }
   ],
   "source": [
    "#TESTCASE-1\n",
    "dfa={}\n",
    "dfa[('a','0')]='a'\n",
    "dfa[('b','0')]='c'\n",
    "dfa[('c','0')]='a'\n",
    "dfa[('d','0')]='c'\n",
    "dfa[('a','1')]='b'\n",
    "dfa[('b','1')]='b'\n",
    "dfa[('c','1')]='d'\n",
    "dfa[('d','1')]='b'\n",
    "\n",
    "class Eab:\n",
    "    def __init__(self,dfa):\n",
    "        self.ins='a'\n",
    "        self.CS='a'\n",
    "        self.fs={'d'}\n",
    "        \n",
    "    def moves(self,string):\n",
    "        for i in string:\n",
    "            self.CS=dfa[(self.CS,i)]\n",
    "            print(self.CS)\n",
    "        if self.CS in self.fs:\n",
    "            print(\"string end's with 101\")\n",
    "        else:\n",
    "            print(\"not end's with 101\")\n",
    "        \n",
    "\n",
    "str=input(\"enter string\")\n",
    "ob1=Eab(dfa)\n",
    "ob1.moves(str)"
   ]
  },
  {
   "cell_type": "code",
   "execution_count": 6,
   "metadata": {},
   "outputs": [
    {
     "name": "stdin",
     "output_type": "stream",
     "text": [
      "enter string 111\n"
     ]
    },
    {
     "name": "stdout",
     "output_type": "stream",
     "text": [
      "b\n",
      "b\n",
      "b\n",
      "not end's with 101\n"
     ]
    }
   ],
   "source": [
    "#TESTCASE-2\n",
    "dfa={}\n",
    "dfa[('a','0')]='a'\n",
    "dfa[('b','0')]='c'\n",
    "dfa[('c','0')]='a'\n",
    "dfa[('d','0')]='c'\n",
    "dfa[('a','1')]='b'\n",
    "dfa[('b','1')]='b'\n",
    "dfa[('c','1')]='d'\n",
    "dfa[('d','1')]='b'\n",
    "\n",
    "class Eab:\n",
    "    def __init__(self,dfa):\n",
    "        self.ins='a'\n",
    "        self.CS='a'\n",
    "        self.fs={'d'}\n",
    "        \n",
    "    def moves(self,string):\n",
    "        for i in string:\n",
    "            self.CS=dfa[(self.CS,i)]\n",
    "            print(self.CS)\n",
    "        if self.CS in self.fs:\n",
    "            print(\"string end's with 101\")\n",
    "        else:\n",
    "            print(\"not end's with 101\")\n",
    "        \n",
    "\n",
    "str=input(\"enter string\")\n",
    "ob1=Eab(dfa)\n",
    "ob1.moves(str)"
   ]
  },
  {
   "cell_type": "markdown",
   "metadata": {},
   "source": [
    "3- DESIGN A PROGRAM FOR MACHINE MODE 3 ALPHABET=a,b,c"
   ]
  },
  {
   "cell_type": "code",
   "execution_count": 7,
   "metadata": {},
   "outputs": [
    {
     "name": "stdin",
     "output_type": "stream",
     "text": [
      "enter string abc\n"
     ]
    },
    {
     "name": "stdout",
     "output_type": "stream",
     "text": [
      "1\n",
      "2\n",
      "0\n",
      "string accepted\n"
     ]
    }
   ],
   "source": [
    "#TESTCASE-1\n",
    "dfa={}\n",
    "dfa[(0,'a')]=1\n",
    "dfa[(0,'b')]=1\n",
    "dfa[(0,'c')]=1\n",
    "dfa[(1,'a')]=2\n",
    "dfa[(1,'b')]=2\n",
    "dfa[(1,'c')]=2\n",
    "dfa[(2,'a')]=0\n",
    "dfa[(2,'b')]=0\n",
    "dfa[(2,'c')]=0\n",
    "\n",
    "class Eab:\n",
    "    def __init__(self,dfa):\n",
    "        self.ins=0\n",
    "        self.CS=0\n",
    "        self.fs={0}\n",
    "        \n",
    "    def moves(self,string):\n",
    "        for i in string:\n",
    "            self.CS=dfa[(self.CS,i)]\n",
    "            print(self.CS)\n",
    "        if self.CS in self.fs:\n",
    "            print(\"string accepted\")\n",
    "        else:\n",
    "            print(\"not accepted string\")\n",
    "        \n",
    "\n",
    "str=input(\"enter string\")\n",
    "ob1=Eab(dfa)\n",
    "ob1.moves(str)\n"
   ]
  },
  {
   "cell_type": "code",
   "execution_count": 8,
   "metadata": {},
   "outputs": [
    {
     "name": "stdin",
     "output_type": "stream",
     "text": [
      "enter string abbbbcc\n"
     ]
    },
    {
     "name": "stdout",
     "output_type": "stream",
     "text": [
      "1\n",
      "2\n",
      "0\n",
      "1\n",
      "2\n",
      "0\n",
      "1\n",
      "not accepted string\n"
     ]
    }
   ],
   "source": [
    "#TESTCASE-2\n",
    "dfa={}\n",
    "dfa[(0,'a')]=1\n",
    "dfa[(0,'b')]=1\n",
    "dfa[(0,'c')]=1\n",
    "dfa[(1,'a')]=2\n",
    "dfa[(1,'b')]=2\n",
    "dfa[(1,'c')]=2\n",
    "dfa[(2,'a')]=0\n",
    "dfa[(2,'b')]=0\n",
    "dfa[(2,'c')]=0\n",
    "\n",
    "class Eab:\n",
    "    def __init__(self,dfa):\n",
    "        self.ins=0\n",
    "        self.CS=0\n",
    "        self.fs={0}\n",
    "        \n",
    "    def moves(self,string):\n",
    "        for i in string:\n",
    "            self.CS=dfa[(self.CS,i)]\n",
    "            print(self.CS)\n",
    "        if self.CS in self.fs:\n",
    "            print(\"string accepted\")\n",
    "        else:\n",
    "            print(\"not accepted string\")\n",
    "        \n",
    "\n",
    "str=input(\"enter string\")\n",
    "ob1=Eab(dfa)\n",
    "ob1.moves(str)\n"
   ]
  }
 ],
 "metadata": {
  "kernelspec": {
   "display_name": "Python 3",
   "language": "python",
   "name": "python3"
  },
  "language_info": {
   "codemirror_mode": {
    "name": "ipython",
    "version": 3
   },
   "file_extension": ".py",
   "mimetype": "text/x-python",
   "name": "python",
   "nbconvert_exporter": "python",
   "pygments_lexer": "ipython3",
   "version": "3.7.3"
  }
 },
 "nbformat": 4,
 "nbformat_minor": 4
}
