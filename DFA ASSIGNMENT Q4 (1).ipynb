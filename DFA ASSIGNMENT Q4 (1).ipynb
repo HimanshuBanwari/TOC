{
 "cells": [
  {
   "cell_type": "markdown",
   "metadata": {},
   "source": [
    "DFA ASSIGNMENT QUESTION 4"
   ]
  },
  {
   "cell_type": "markdown",
   "metadata": {},
   "source": [
    "STRING ACCEPT'S EQUAL NO OF 0'S AND 1'S"
   ]
  },
  {
   "cell_type": "code",
   "execution_count": 1,
   "metadata": {},
   "outputs": [
    {
     "name": "stdin",
     "output_type": "stream",
     "text": [
      "enter a string 1001\n"
     ]
    },
    {
     "name": "stdout",
     "output_type": "stream",
     "text": [
      "3\n",
      "0\n",
      "1\n",
      "0\n",
      "string has equal 0's and 1's\n"
     ]
    }
   ],
   "source": [
    "#CASE-1\n",
    "dfa=dict()\n",
    "dfa[(0,'0')]=1\n",
    "dfa[(0,'1')]=3\n",
    "dfa[(1,'0')]=2\n",
    "dfa[(1,'1')]=0\n",
    "dfa[(2,'0')]=3\n",
    "dfa[(2,'1')]=1\n",
    "dfa[(3,'0')]=0\n",
    "dfa[(3,'1')]=2\n",
    "\n",
    "class Eab:\n",
    "    def __init__(self,dfa):\n",
    "        self.ins=0\n",
    "        self.fs=0\n",
    "        self.cs=0\n",
    "    def moves(self,string):\n",
    "         for i in string:\n",
    "             self.cs=dfa[self.cs,i]\n",
    "             print(self.cs)\n",
    "         if self.cs==self.fs:\n",
    "             print(\"string has equal 0's and 1's\")\n",
    "         else:\n",
    "             print(\"string not has equal 0's and 1's\")\n",
    "         \n",
    "st=input(\"enter a string\")\n",
    "ob=Eab(dfa)\n",
    "ob.moves(st)"
   ]
  },
  {
   "cell_type": "code",
   "execution_count": 2,
   "metadata": {},
   "outputs": [
    {
     "name": "stdin",
     "output_type": "stream",
     "text": [
      "enter a string 10011\n"
     ]
    },
    {
     "name": "stdout",
     "output_type": "stream",
     "text": [
      "3\n",
      "0\n",
      "1\n",
      "0\n",
      "3\n",
      "string not has equal 0's and 1's\n"
     ]
    }
   ],
   "source": [
    "#CASE-2\n",
    "dfa=dict()\n",
    "dfa[(0,'0')]=1\n",
    "dfa[(0,'1')]=3\n",
    "dfa[(1,'0')]=2\n",
    "dfa[(1,'1')]=0\n",
    "dfa[(2,'0')]=3\n",
    "dfa[(2,'1')]=1\n",
    "dfa[(3,'0')]=0\n",
    "dfa[(3,'1')]=2\n",
    "\n",
    "class Eab:\n",
    "    def __init__(self,dfa):\n",
    "        self.ins=0\n",
    "        self.fs=0\n",
    "        self.cs=0\n",
    "    def moves(self,string):\n",
    "         for i in string:\n",
    "             self.cs=dfa[self.cs,i]\n",
    "             print(self.cs)\n",
    "         if self.cs==self.fs:\n",
    "             print(\"string has equal 0's and 1's\")\n",
    "         else:\n",
    "             print(\"string not has equal 0's and 1's\")\n",
    "         \n",
    "st=input(\"enter a string\")\n",
    "ob=Eab(dfa)\n",
    "ob.moves(st)"
   ]
  }
 ],
 "metadata": {
  "kernelspec": {
   "display_name": "Python 3",
   "language": "python",
   "name": "python3"
  },
  "language_info": {
   "codemirror_mode": {
    "name": "ipython",
    "version": 3
   },
   "file_extension": ".py",
   "mimetype": "text/x-python",
   "name": "python",
   "nbconvert_exporter": "python",
   "pygments_lexer": "ipython3",
   "version": "3.7.3"
  }
 },
 "nbformat": 4,
 "nbformat_minor": 4
}
