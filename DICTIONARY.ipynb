{
 "cells": [
  {
   "cell_type": "markdown",
   "metadata": {},
   "source": [
    "DICTIONARY IMPLEMENTATION (EVEN NO OF b's AND a's)"
   ]
  },
  {
   "cell_type": "code",
   "execution_count": 3,
   "metadata": {
    "jupyter": {
     "source_hidden": true
    }
   },
   "outputs": [
    {
     "name": "stdin",
     "output_type": "stream",
     "text": [
      "enter string aabb\n"
     ]
    },
    {
     "name": "stdout",
     "output_type": "stream",
     "text": [
      "even a's and b's\n"
     ]
    }
   ],
   "source": [
    "def dfaeab(string):\n",
    "    ins=0\n",
    "    fs=0\n",
    "    CS=ins\n",
    "    for i in string:\n",
    "        CS=dfa[CS][i]\n",
    "    if CS is fs:\n",
    "        print(\"even a's and b's\")\n",
    "    else:\n",
    "        print(\"not even a's and b's\")\n",
    "dfa={\n",
    "    0:{'a':1,'b':3},\n",
    "    1:{'a':0,'b':2},\n",
    "    2:{'a':3,'b':1},\n",
    "    3:{'a':2,'b':0},\n",
    "    }\n",
    "string=input(\"enter string\")\n",
    "\n",
    "dfaeab(string)"
   ]
  },
  {
   "cell_type": "markdown",
   "metadata": {},
   "source": [
    "DICTIONARY IMPLEMENTATION (EVEN NO OF b's AND a's)"
   ]
  },
  {
   "cell_type": "code",
   "execution_count": 4,
   "metadata": {
    "jupyter": {
     "source_hidden": true
    }
   },
   "outputs": [
    {
     "name": "stdin",
     "output_type": "stream",
     "text": [
      "enter string abb\n"
     ]
    },
    {
     "name": "stdout",
     "output_type": "stream",
     "text": [
      "not even a's and b's\n"
     ]
    }
   ],
   "source": [
    "def dfaeab(string):\n",
    "    ins=0\n",
    "    fs=0\n",
    "    CS=ins\n",
    "    for i in string:\n",
    "        CS=dfa[CS][i]\n",
    "    if CS is fs:\n",
    "        print(\"even a's and b's\")\n",
    "    else:\n",
    "        print(\"not even a's and b's\")\n",
    "dfa={\n",
    "    0:{'a':1,'b':3},\n",
    "    1:{'a':0,'b':2},\n",
    "    2:{'a':3,'b':1},\n",
    "    3:{'a':2,'b':0},\n",
    "    }\n",
    "string=input(\"enter string\")\n",
    "\n",
    "dfaeab(string)"
   ]
  },
  {
   "cell_type": "markdown",
   "metadata": {},
   "source": [
    "DICTIONARY IMPLEMENTATION (END'S IN 1)"
   ]
  },
  {
   "cell_type": "code",
   "execution_count": 5,
   "metadata": {},
   "outputs": [
    {
     "name": "stdin",
     "output_type": "stream",
     "text": [
      "enter string 100\n"
     ]
    },
    {
     "name": "stdout",
     "output_type": "stream",
     "text": [
      "doesn't end in 1\n"
     ]
    }
   ],
   "source": [
    "dfa=dict()\n",
    "dfa[('a','0')]='b'\n",
    "dfa[('b','0')]='a'\n",
    "dfa[('a','1')]='a'\n",
    "dfa[('b','1')]='b'\n",
    "def stringcheck(string):\n",
    "    ins='a'\n",
    "    fs={'b'}\n",
    "    CS=ins\n",
    "    for i in string:\n",
    "        CS=dfa[(CS,i)]\n",
    "    if CS is fs:\n",
    "        print(\"ends in 1\")\n",
    "    else:\n",
    "        print(\"doesn't end in 1\")\n",
    "string=input(\"enter string\")\n",
    "stringcheck(string)"
   ]
  },
  {
   "cell_type": "markdown",
   "metadata": {},
   "source": [
    "DICTIONARY IMPLEMENTATION USING CLASS(END'S IN 1)"
   ]
  },
  {
   "cell_type": "code",
   "execution_count": 8,
   "metadata": {},
   "outputs": [
    {
     "name": "stdin",
     "output_type": "stream",
     "text": [
      "enter string 100\n"
     ]
    },
    {
     "name": "stdout",
     "output_type": "stream",
     "text": [
      "not end's in 1\n"
     ]
    }
   ],
   "source": [
    "dfa={}\n",
    "dfa[('a','0')]='b'\n",
    "dfa[('b','0')]='a'\n",
    "dfa[('a','1')]='a'\n",
    "dfa[('b','1')]='b'\n",
    "class Eab:\n",
    "    def __init__(self,dfa):\n",
    "        self.ins='a'\n",
    "        self.CS='a'\n",
    "        self.fs={'b'}\n",
    "        \n",
    "    def moves(self,string):\n",
    "        for i in string:\n",
    "            self.CS=dfa[(self.CS,i)]\n",
    "        if self.CS==self.fs:\n",
    "            print(\"end with 1\")\n",
    "        else:\n",
    "            print(\"not end's in 1\")\n",
    "        \n",
    "\n",
    "str=input(\"enter string\")\n",
    "ob1=Eab(dfa)\n",
    "ob1.moves(str)\n",
    "\n"
   ]
  }
 ],
 "metadata": {
  "kernelspec": {
   "display_name": "Python 3",
   "language": "python",
   "name": "python3"
  },
  "language_info": {
   "codemirror_mode": {
    "name": "ipython",
    "version": 3
   },
   "file_extension": ".py",
   "mimetype": "text/x-python",
   "name": "python",
   "nbconvert_exporter": "python",
   "pygments_lexer": "ipython3",
   "version": "3.7.3"
  }
 },
 "nbformat": 4,
 "nbformat_minor": 4
}
