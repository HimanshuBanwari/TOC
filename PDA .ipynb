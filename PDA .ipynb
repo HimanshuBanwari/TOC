{
 "cells": [
  {
   "cell_type": "markdown",
   "metadata": {},
   "source": [
    "PDA"
   ]
  },
  {
   "cell_type": "markdown",
   "metadata": {},
   "source": [
    "1-Construct a PDA that accepts a string a^nb^n where n>=1."
   ]
  },
  {
   "cell_type": "code",
   "execution_count": 1,
   "metadata": {},
   "outputs": [
    {
     "name": "stdin",
     "output_type": "stream",
     "text": [
      "Please enter the expression:  aabb\n"
     ]
    },
    {
     "name": "stdout",
     "output_type": "stream",
     "text": [
      "accepted string\n"
     ]
    }
   ],
   "source": [
    "#testcase-1\n",
    "class Stack:\n",
    "    def __init__(self):\n",
    "        self.l = []\n",
    " \n",
    "    def is_empty(self):\n",
    "        return self.l == []\n",
    " \n",
    "    def push(self, data):\n",
    "        self.l.append(data)\n",
    " \n",
    "    def pop(self):\n",
    "        return self.l.pop()\n",
    " \n",
    " \n",
    "s = Stack()\n",
    "exp = input('Please enter the expression: ')\n",
    " \n",
    "for e in exp:\n",
    "    if e == 'a':\n",
    "        s.push(1)\n",
    "    elif e == 'b':\n",
    "        if s.is_empty():\n",
    "            balanced = False\n",
    "            break\n",
    "        s.pop()\n",
    "else:\n",
    "    if s.is_empty():\n",
    "        balanced = True\n",
    "    else:\n",
    "        balanced = False\n",
    " \n",
    "if balanced:\n",
    "    print('accepted string')\n",
    "else:\n",
    "    print('not accepted string')\n"
   ]
  },
  {
   "cell_type": "code",
   "execution_count": 2,
   "metadata": {},
   "outputs": [
    {
     "name": "stdin",
     "output_type": "stream",
     "text": [
      "Please enter the expression:  aaabb\n"
     ]
    },
    {
     "name": "stdout",
     "output_type": "stream",
     "text": [
      "not accepted string\n"
     ]
    }
   ],
   "source": [
    "#testcase-2\n",
    "class Stack:\n",
    "    def __init__(self):\n",
    "        self.l = []\n",
    " \n",
    "    def is_empty(self):\n",
    "        return self.l == []\n",
    " \n",
    "    def push(self, data):\n",
    "        self.l.append(data)\n",
    " \n",
    "    def pop(self):\n",
    "        return self.l.pop()\n",
    " \n",
    " \n",
    "s = Stack()\n",
    "exp = input('Please enter the expression: ')\n",
    " \n",
    "for e in exp:\n",
    "    if e == 'a':\n",
    "        s.push(1)\n",
    "    elif e == 'b':\n",
    "        if s.is_empty():\n",
    "            balanced = False\n",
    "            break\n",
    "        s.pop()\n",
    "else:\n",
    "    if s.is_empty():\n",
    "        balanced = True\n",
    "    else:\n",
    "        balanced = False\n",
    " \n",
    "if balanced:\n",
    "    print('accepted string')\n",
    "else:\n",
    "    print('not accepted string')\n"
   ]
  },
  {
   "cell_type": "markdown",
   "metadata": {},
   "source": [
    "2-Construct a PDA that accepts a string a^nb^nc^2n where n>=1."
   ]
  },
  {
   "cell_type": "code",
   "execution_count": 3,
   "metadata": {},
   "outputs": [
    {
     "name": "stdin",
     "output_type": "stream",
     "text": [
      "Please enter the expression:  aabbbccccc\n"
     ]
    },
    {
     "name": "stdout",
     "output_type": "stream",
     "text": [
      "accepted string\n"
     ]
    }
   ],
   "source": [
    "#testcase-1\n",
    "class Stack:\n",
    "    def __init__(self):\n",
    "        self.l = []\n",
    " \n",
    "    def is_empty(self):\n",
    "        return self.l == []\n",
    " \n",
    "    def push(self, data):\n",
    "        self.l.append(data)\n",
    " \n",
    "    def pop(self):\n",
    "        return self.l.pop()\n",
    " \n",
    " \n",
    "s = Stack()\n",
    "exp = input('Please enter the expression: ')\n",
    " \n",
    "for e in exp:\n",
    "    if e == 'a':\n",
    "        s.push(1)\n",
    "    elif e == 'b':\n",
    "        s.push(1)\n",
    "    elif e == 'c':\n",
    "        if s.is_empty():\n",
    "            balanced = False\n",
    "            break\n",
    "        s.pop()\n",
    "else:\n",
    "    if s.is_empty():\n",
    "        balanced = True\n",
    "    else:\n",
    "        balanced = False\n",
    " \n",
    "if balanced:\n",
    "    print('accepted string')\n",
    "else:\n",
    "    print('not accepted string')\n"
   ]
  },
  {
   "cell_type": "code",
   "execution_count": 4,
   "metadata": {},
   "outputs": [
    {
     "name": "stdin",
     "output_type": "stream",
     "text": [
      "Please enter the expression:  aabbccc\n"
     ]
    },
    {
     "name": "stdout",
     "output_type": "stream",
     "text": [
      "not accepted string\n"
     ]
    }
   ],
   "source": [
    "#testcase-2\n",
    "class Stack:\n",
    "    def __init__(self):\n",
    "        self.l = []\n",
    " \n",
    "    def is_empty(self):\n",
    "        return self.l == []\n",
    " \n",
    "    def push(self, data):\n",
    "        self.l.append(data)\n",
    " \n",
    "    def pop(self):\n",
    "        return self.l.pop()\n",
    " \n",
    " \n",
    "s = Stack()\n",
    "exp = input('Please enter the expression: ')\n",
    " \n",
    "for e in exp:\n",
    "    if e == 'a':\n",
    "        s.push(1)\n",
    "    elif e == 'b':\n",
    "        s.push(1)\n",
    "    elif e == 'c':\n",
    "        if s.is_empty():\n",
    "            balanced = False\n",
    "            break\n",
    "        s.pop()\n",
    "else:\n",
    "    if s.is_empty():\n",
    "        balanced = True\n",
    "    else:\n",
    "        balanced = False\n",
    " \n",
    "if balanced:\n",
    "    print('accepted string')\n",
    "else:\n",
    "    print('not accepted string')\n"
   ]
  },
  {
   "cell_type": "markdown",
   "metadata": {},
   "source": [
    "3-Construct a PDA that accepts a string balancing of different paranthesis."
   ]
  },
  {
   "cell_type": "code",
   "execution_count": 8,
   "metadata": {},
   "outputs": [
    {
     "name": "stdin",
     "output_type": "stream",
     "text": [
      "enter the expression:  {{}}[]()\n"
     ]
    },
    {
     "name": "stdout",
     "output_type": "stream",
     "text": [
      "BALANCED paranthesis string\n"
     ]
    }
   ],
   "source": [
    "#testcase-1\n",
    "class Stack:\n",
    "    def __init__(self):\n",
    "        self.l1 = []\n",
    "        self.l2 = []\n",
    "        self.l3 = []\n",
    " \n",
    "    def is_empty(self):\n",
    "        return (self.l1 == [],self.l2==[],self.l3==[])\n",
    "        \n",
    " \n",
    "    def push(self, x):\n",
    "        self.l1.append(x)\n",
    "        self.l2.append(x)\n",
    "        self.l3.append(x)\n",
    " \n",
    "    def pop(self):\n",
    "        return (self.l1.pop(),self.l2.pop(),self.l3.pop())\n",
    " \n",
    " \n",
    "s = Stack()\n",
    "exp = input('enter the expression: ')\n",
    " \n",
    "for e in exp:\n",
    "    if e == '(':\n",
    "        s.push(11)\n",
    "    elif e == ')':\n",
    "        if s.is_empty():\n",
    "            balanced = False\n",
    "            break\n",
    "        s.pop(11)\n",
    "    \n",
    "    elif e == '[':\n",
    "        s.push(12)\n",
    "    elif e == ']':\n",
    "        if s.is_empty():\n",
    "            balanced = False\n",
    "            break\n",
    "        s.pop(l2)\n",
    "    \n",
    "    elif e == '{':\n",
    "        s.push(13)\n",
    "    elif e == '}':\n",
    "        if s.is_empty():\n",
    "            balanced = False\n",
    "            break\n",
    "        s.pop(l3)\n",
    "if s.is_empty():\n",
    "    balanced = True\n",
    "else:\n",
    "    balanced = False\n",
    " \n",
    "if balanced==True:\n",
    "    print('BALANCED paranthesis string')\n",
    "else:\n",
    "    print('UNBALANCED paranthesis string')\n"
   ]
  }
 ],
 "metadata": {
  "kernelspec": {
   "display_name": "Python 3",
   "language": "python",
   "name": "python3"
  },
  "language_info": {
   "codemirror_mode": {
    "name": "ipython",
    "version": 3
   },
   "file_extension": ".py",
   "mimetype": "text/x-python",
   "name": "python",
   "nbconvert_exporter": "python",
   "pygments_lexer": "ipython3",
   "version": "3.7.3"
  }
 },
 "nbformat": 4,
 "nbformat_minor": 4
}
